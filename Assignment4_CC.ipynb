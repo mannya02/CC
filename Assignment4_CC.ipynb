{
 "cells": [
  {
   "cell_type": "markdown",
   "id": "1d5f6956-98e2-454f-89c3-8f39ffe2476c",
   "metadata": {},
   "source": [
    "# ASSIGNMENT 4"
   ]
  },
  {
   "cell_type": "markdown",
   "id": "1dfe63fe-e59c-41c6-87d0-a23931798c15",
   "metadata": {},
   "source": [
    "## Q1) Write a program to create a NumPy 1D-array with 5 elements and perform basic operations like:\n",
    "a) Addition of 2 in all the element\n",
    "\n",
    "b) Multiply 3 with all the elements\n",
    "\n",
    "c) Divide every element by 2"
   ]
  },
  {
   "cell_type": "code",
   "execution_count": 3,
   "id": "6075a533-b66a-4ff8-b108-7b6f316ddda4",
   "metadata": {},
   "outputs": [
    {
     "name": "stdout",
     "output_type": "stream",
     "text": [
      "[3 4 5 6 7]\n",
      "[ 3  6  9 12 15]\n",
      "[0.5 1.  1.5 2.  2.5]\n"
     ]
    }
   ],
   "source": [
    "import numpy as np\n",
    "a=np.array([1,2,3,4,5])\n",
    "print(a+2)\n",
    "print(a*3)\n",
    "print(a/2)\n",
    "    "
   ]
  },
  {
   "cell_type": "markdown",
   "id": "8ace90d4-fe50-4bda-9748-294076380105",
   "metadata": {},
   "source": [
    "## Q2) Questions on Basic NumPy Array:\n",
    "\n",
    "a) Reverse the NumPy array: arr = np.array([1, 2, 3, 6, 4, 5])\n",
    "\n",
    "b) Find the most frequent value and their indice(s) in the following arrays:\n",
    "\n",
    "i. x = np.array([1,2,3,4,5,1,2,1,1,1])\n",
    "\n",
    "ii. y = np.array([1, 1, 1, 2, 3, 4, 2, 4, 3, 3, ])"
   ]
  },
  {
   "cell_type": "code",
   "execution_count": 12,
   "id": "cc5385d0-cee9-450d-a483-912f75d90273",
   "metadata": {},
   "outputs": [
    {
     "name": "stdout",
     "output_type": "stream",
     "text": [
      "Reversed array= [5 4 6 3 2 1]\n",
      "Most frequent value in x: 1\n",
      "Indices of the most frequent value in x: [0, 5, 7, 8, 9]\n",
      "Most frequent values in y: [1, 3]\n",
      "Indices of the most frequent values in y:\n",
      "Value 1: [0, 1, 2]\n",
      "Value 3: [4, 8, 9]\n"
     ]
    }
   ],
   "source": [
    "import numpy as np\n",
    "arr = np.array([1, 2, 3, 6, 4, 5])[::-1]\n",
    "print(\"Reversed array=\",arr)\n",
    "\n",
    "# i. x array\n",
    "x = np.array([1,2,3,4,5,1,2,1,1,1])\n",
    "count= {}\n",
    "for num in x:\n",
    "    if num in count:\n",
    "        count[num] += 1\n",
    "    else:\n",
    "        count[num] = 1\n",
    "        \n",
    "freq = max(count, key=count.get)\n",
    "indexes_x = [i for i, val in enumerate(x) if val == freq]\n",
    "\n",
    "print(\"Most frequent value in x:\", freq)\n",
    "print(\"Indices of the most frequent value in x:\", indexes_x)\n",
    "\n",
    "# ii. y array\n",
    "y = np.array([1, 1, 1, 2, 3, 4, 2, 4, 3, 3])\n",
    "count_y = {}\n",
    "for num in y:\n",
    "    if num in count_y:\n",
    "        count_y[num] += 1\n",
    "    else:\n",
    "        count_y[num] = 1\n",
    "max_freq = max(count_y.values())\n",
    "most_frequent_y = [key for key, value in count_y.items() if value == max_freq]\n",
    "indices_y = {}\n",
    "for val in most_frequent_y:\n",
    "    indices_y[val] = [i for i, elem in enumerate(y) if elem == val]\n",
    "print(\"Most frequent values in y:\", most_frequent_y)\n",
    "print(\"Indices of the most frequent values in y:\")\n",
    "for val, indices in indices_y.items():\n",
    "    print(f\"Value {val}: {indices}\")\n"
   ]
  },
  {
   "cell_type": "markdown",
   "id": "d68b249a-0574-4536-a65b-4cc269c0ac84",
   "metadata": {},
   "source": [
    "## Q3) For the given 2-D array arr=np.array([10, 20, 30], [40, 50, 60], [70, 80, 90]), access elements using row and column indices as follows:\n",
    "\n",
    "a) Access 1st row, 2nd column\n",
    "\n",
    "b) Access 3rd row, 1st column"
   ]
  },
  {
   "cell_type": "code",
   "execution_count": 13,
   "id": "c5c2bbf8-f854-45cf-8a57-e2c395b420f9",
   "metadata": {},
   "outputs": [
    {
     "name": "stdout",
     "output_type": "stream",
     "text": [
      "1st row, 2nd column element: 20\n",
      "3rd row, 1st column element: 70\n"
     ]
    }
   ],
   "source": [
    "import numpy as np\n",
    "arr = np.array([[10, 20, 30], [40, 50, 60], [70, 80, 90]])\n",
    "a = arr[0, 1]  \n",
    "print(\"1st row, 2nd column element:\", a)\n",
    "b = arr[2, 0]\n",
    "print(\"3rd row, 1st column element:\", b)\n"
   ]
  },
  {
   "cell_type": "markdown",
   "id": "a2f9e0b7-e443-4342-8e6f-f4fd1959e64a",
   "metadata": {},
   "source": [
    "## Q4) Write program to create an 1-D NumPy array named (Your Name) with evenly spaced 25 numbers from 10 to 100 using linspace(). Print the dimensions of the array,shape, total elements, the data type of each element and total number of bytes consumedby the array. Find the transpose of this array using reshape() attribute. Can we do the same with T attribute?"
   ]
  },
  {
   "cell_type": "code",
   "execution_count": 17,
   "id": "69c83486-7269-4a3e-a838-cb5488fe1630",
   "metadata": {},
   "outputs": [
    {
     "name": "stdout",
     "output_type": "stream",
     "text": [
      "Array: [ 10.    13.75  17.5   21.25  25.    28.75  32.5   36.25  40.    43.75\n",
      "  47.5   51.25  55.    58.75  62.5   66.25  70.    73.75  77.5   81.25\n",
      "  85.    88.75  92.5   96.25 100.  ]\n",
      "Dimensions of the array: 1\n",
      "Shape of the array: (25,)\n",
      "Total elements in the array: 25\n",
      "Data type of each element: float64\n",
      "Total bytes consumed by the array: 200\n",
      "Transposed Array using reshape():\n",
      " [[ 10.  ]\n",
      " [ 13.75]\n",
      " [ 17.5 ]\n",
      " [ 21.25]\n",
      " [ 25.  ]\n",
      " [ 28.75]\n",
      " [ 32.5 ]\n",
      " [ 36.25]\n",
      " [ 40.  ]\n",
      " [ 43.75]\n",
      " [ 47.5 ]\n",
      " [ 51.25]\n",
      " [ 55.  ]\n",
      " [ 58.75]\n",
      " [ 62.5 ]\n",
      " [ 66.25]\n",
      " [ 70.  ]\n",
      " [ 73.75]\n",
      " [ 77.5 ]\n",
      " [ 81.25]\n",
      " [ 85.  ]\n",
      " [ 88.75]\n",
      " [ 92.5 ]\n",
      " [ 96.25]\n",
      " [100.  ]]\n",
      "Transposed Array using T attribute:\n",
      " [ 10.    13.75  17.5   21.25  25.    28.75  32.5   36.25  40.    43.75\n",
      "  47.5   51.25  55.    58.75  62.5   66.25  70.    73.75  77.5   81.25\n",
      "  85.    88.75  92.5   96.25 100.  ]\n"
     ]
    }
   ],
   "source": [
    "import numpy as np\n",
    "mannya = np.linspace(10, 100, 25)\n",
    "print(\"Array:\", mannya)\n",
    "print(\"Dimensions of the array:\", mannya.ndim)\n",
    "print(\"Shape of the array:\", mannya.shape)\n",
    "print(\"Total elements in the array:\", mannya.size)\n",
    "print(\"Data type of each element:\", mannya.dtype)\n",
    "print(\"Total bytes consumed by the array:\", mannya.nbytes)\n",
    "transpose_array = mannya.reshape(-1, 1)\n",
    "print(\"Transposed Array using reshape():\\n\", transpose_array)\n",
    "transposed_with_T = mannya.T\n",
    "print(\"Transposed Array using T attribute:\\n\", transposed_with_T)\n"
   ]
  },
  {
   "cell_type": "markdown",
   "id": "5082f536-ec8a-4884-ab30-a9fcfbaa1cf4",
   "metadata": {},
   "source": [
    "## Q5) Create a 2-D Array of three rows and four columns, named ucs420_(your_name) with following values – 10, 20, 30, 40, 50, 60, 70, 80, 90, 15, 20, 35. Compute the mean,median, max, min, unique elements. Reshape the array to four rows and three columns and name it as reshaped_ ucs420_(your_name). Resize the array to two rows and three columns and name it as resized_ ucs420_(your_name)."
   ]
  },
  {
   "cell_type": "code",
   "execution_count": 19,
   "id": "112acf7d-d4f5-4c97-90f5-f1cf4c9213e0",
   "metadata": {},
   "outputs": [
    {
     "name": "stdout",
     "output_type": "stream",
     "text": [
      "Mean: 43.333333333333336\n",
      "Median: 37.5\n",
      "Max: 90\n",
      "Min: 10\n",
      "Unique elements: [10 15 20 30 35 40 50 60 70 80 90]\n",
      "Reshaped to 4x3:\n",
      " [[10 20 30]\n",
      " [40 50 60]\n",
      " [70 80 90]\n",
      " [15 20 35]]\n",
      "Resized to 2x3:\n",
      " [[10 20 30]\n",
      " [40 50 60]]\n"
     ]
    }
   ],
   "source": [
    "import numpy as np\n",
    "ucs420_mannya = np.array([\n",
    "    [10, 20, 30, 40],\n",
    "    [50, 60, 70, 80],\n",
    "    [90, 15, 20, 35]\n",
    "])\n",
    "mean_array = np.mean(ucs420_mannya)\n",
    "median_array = np.median(ucs420_mannya)\n",
    "max_array = np.max(ucs420_mannya)\n",
    "min_array = np.min(ucs420_mannya)\n",
    "unique_elements = np.unique(ucs420_mannya)\n",
    "print(\"Mean:\", mean_array)\n",
    "print(\"Median:\", median_array)\n",
    "print(\"Max:\", max_array)\n",
    "print(\"Min:\", min_array)\n",
    "print(\"Unique elements:\", unique_elements)\n",
    "reshaped_ucs420_mannya = ucs420_mannya.reshape(4, 3)\n",
    "print(\"Reshaped to 4x3:\\n\", reshaped_ucs420_mannya)\n",
    "ucs420_mannya_resized = np.resize(ucs420_mannya, (2, 3))\n",
    "print(\"Resized to 2x3:\\n\", ucs420_mannya_resized)\n"
   ]
  },
  {
   "cell_type": "code",
   "execution_count": null,
   "id": "cc8642cd-8f88-47ba-8ca5-e7164b7f5d02",
   "metadata": {},
   "outputs": [],
   "source": []
  },
  {
   "cell_type": "code",
   "execution_count": null,
   "id": "89f3785b-fcd1-4816-a76b-bf02b5cef3a5",
   "metadata": {},
   "outputs": [],
   "source": []
  }
 ],
 "metadata": {
  "kernelspec": {
   "display_name": "Python 3 (ipykernel)",
   "language": "python",
   "name": "python3"
  },
  "language_info": {
   "codemirror_mode": {
    "name": "ipython",
    "version": 3
   },
   "file_extension": ".py",
   "mimetype": "text/x-python",
   "name": "python",
   "nbconvert_exporter": "python",
   "pygments_lexer": "ipython3",
   "version": "3.11.7"
  }
 },
 "nbformat": 4,
 "nbformat_minor": 5
}
