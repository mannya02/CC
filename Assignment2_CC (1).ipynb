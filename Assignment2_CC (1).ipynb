{
 "cells": [
  {
   "cell_type": "markdown",
   "id": "e87bc25d-1e76-4fe0-977e-4f93497c1de3",
   "metadata": {},
   "source": [
    "Q1"
   ]
  },
  {
   "cell_type": "markdown",
   "id": "33e8f12e-8c7f-4b10-b975-77170cddafb2",
   "metadata": {},
   "source": [
    "Create a List L that is defined as= [10, 20, 30, 40, 50, 60, 70, 80].\n",
    "i. WAP to add 200 and 300 to L.\n",
    "ii. WAP to remove 10 and 30 from L.\n",
    "iii. WAP to sort L in ascending order.\n",
    "iv. WAP to sort L in descending order."
   ]
  },
  {
   "cell_type": "code",
   "execution_count": 12,
   "id": "3568da54-41d7-4b65-9c28-925fd907ae95",
   "metadata": {},
   "outputs": [
    {
     "name": "stdout",
     "output_type": "stream",
     "text": [
      "[10, 20, 30, 40, 50, 60, 70, 80]\n",
      "[10, 20, 30, 40, 50, 60, 70, 80, 200]\n",
      "[10, 20, 30, 40, 50, 60, 70, 80, 200, 300]\n",
      "[20, 30, 40, 50, 60, 70, 80, 200, 300]\n",
      "[20, 40, 50, 60, 70, 80, 200, 300]\n",
      "[20, 40, 50, 60, 70, 80, 200, 300]\n",
      "[300, 200, 80, 70, 60, 50, 40, 20]\n"
     ]
    }
   ],
   "source": [
    "l=[10,20,30,40,50,60,70,80]\n",
    "print(l)\n",
    "l.append(200)\n",
    "print(l)\n",
    "l.append(300)\n",
    "print(l)\n",
    "l.remove(10)\n",
    "print(l)\n",
    "l.remove(30)\n",
    "print(l)\n",
    "l.sort()\n",
    "print(l)\n",
    "l.sort(reverse=True)\n",
    "print(l)"
   ]
  },
  {
   "cell_type": "markdown",
   "id": "313b8ead-d346-4568-a47b-999062e6ba28",
   "metadata": {},
   "source": [
    "Q2"
   ]
  },
  {
   "cell_type": "markdown",
   "id": "da4b64a2-4d24-471d-b5da-1cc09d52873f",
   "metadata": {},
   "source": [
    "Create a tuple of marks scored as scores = (45, 89.5, 76, 45.4, 89, 92, 58, 45) and\n",
    "perform the following operations using tuple functions:\n",
    "i. Identify the highest score and its index in the tuple.\n",
    "ii. Find the lowest score and count how many times it appears.\n",
    "iii. Reverse the tuple and return it as a list.\n",
    "iv. Check if a specific score ‘76’ (input by the user) is present in the tuple and\n",
    "print its first occurrence index, or a message saying it’s not present."
   ]
  },
  {
   "cell_type": "code",
   "execution_count": 28,
   "id": "fac5d169-0608-46a3-91f0-751d9f08ec63",
   "metadata": {},
   "outputs": [
    {
     "name": "stdout",
     "output_type": "stream",
     "text": [
      "Highest score= 92  and its index is= 5\n"
     ]
    }
   ],
   "source": [
    "t=(45, 89.5, 76, 45.4, 89, 92, 58, 45)\n",
    "max=0\n",
    "for i in range(0,8):\n",
    "    if(t[i]>t[max]):\n",
    "        max=i\n",
    "print(\"Highest score=\",t[max],\" and its index is=\",max)"
   ]
  },
  {
   "cell_type": "markdown",
   "id": "d4baed12-b4a4-4466-b911-87b1690d6d4d",
   "metadata": {},
   "source": [
    "Q3"
   ]
  },
  {
   "cell_type": "markdown",
   "id": "524fd3ac-d2e6-4e33-bba5-4f7ef235fd95",
   "metadata": {},
   "source": [
    "WAP to create a list of 100 random numbers between 100 and 900. Count and print\n",
    "the:\n",
    "i. All odd numbers\n",
    "ii. All even numbers\n",
    "iii. All prime numbers"
   ]
  },
  {
   "cell_type": "code",
   "execution_count": 49,
   "id": "d8119c48-849e-44ae-a1eb-cd18a48363e8",
   "metadata": {},
   "outputs": [
    {
     "name": "stdout",
     "output_type": "stream",
     "text": [
      "Odd numbers are=\n",
      "809\n",
      "171\n",
      "289\n",
      "869\n",
      "361\n",
      "855\n",
      "575\n",
      "387\n",
      "375\n",
      "307\n",
      "801\n",
      "735\n",
      "629\n",
      "417\n",
      "529\n",
      "631\n",
      "583\n",
      "149\n",
      "745\n",
      "525\n",
      "319\n",
      "139\n",
      "185\n",
      "705\n",
      "285\n",
      "501\n",
      "383\n",
      "463\n",
      "615\n",
      "119\n",
      "475\n",
      "211\n",
      "345\n",
      "887\n",
      "723\n",
      "817\n",
      "655\n",
      "239\n",
      "113\n",
      "607\n",
      "193\n",
      "631\n",
      "333\n",
      "889\n",
      "497\n",
      "255\n",
      "493\n",
      "267\n",
      "283\n",
      "237\n",
      "761\n",
      "857\n",
      "No of odd numbers are= 52\n",
      "Even numbers are=\n",
      "656\n",
      "386\n",
      "624\n",
      "694\n",
      "428\n",
      "856\n",
      "116\n",
      "734\n",
      "350\n",
      "396\n",
      "282\n",
      "460\n",
      "876\n",
      "124\n",
      "298\n",
      "302\n",
      "740\n",
      "210\n",
      "544\n",
      "202\n",
      "658\n",
      "266\n",
      "108\n",
      "416\n",
      "398\n",
      "744\n",
      "744\n",
      "362\n",
      "662\n",
      "242\n",
      "872\n",
      "374\n",
      "738\n",
      "808\n",
      "324\n",
      "818\n",
      "656\n",
      "138\n",
      "822\n",
      "542\n",
      "484\n",
      "378\n",
      "294\n",
      "584\n",
      "320\n",
      "374\n",
      "340\n",
      "350\n",
      "No of even numbers are= 48\n",
      "Prime numbers are=\n",
      "809\n",
      "307\n",
      "631\n",
      "149\n",
      "139\n",
      "383\n",
      "463\n",
      "211\n",
      "887\n",
      "239\n",
      "113\n",
      "607\n",
      "193\n",
      "631\n",
      "283\n",
      "761\n",
      "857\n",
      "No of prime numbers= 17\n"
     ]
    }
   ],
   "source": [
    "import random\n",
    "def is_prime(num):\n",
    "    if num < 2:\n",
    "        return False\n",
    "    for i in range(2, int(num ** 0.5) + 1):\n",
    "        if num % i == 0:\n",
    "            return False\n",
    "    return True\n",
    "\n",
    "rno = [random.randint(100, 900) for _ in range(100)]\n",
    "co=0\n",
    "ce=0\n",
    "cp=0\n",
    "#odd numbers\n",
    "print(\"Odd numbers are=\")\n",
    "for i in rno:\n",
    "    if(i%2!=0):\n",
    "        co=co+1\n",
    "        print(i)\n",
    "print(\"No of odd numbers are=\",co)\n",
    "#even numbers  \n",
    "print(\"Even numbers are=\")\n",
    "for i in rno:\n",
    "    if(i%2==0):\n",
    "        ce=ce+1\n",
    "        print(i)\n",
    "print(\"No of even numbers are=\",ce)    \n",
    "#prime numbers\n",
    "print(\"Prime numbers are=\")\n",
    "for i in rno:\n",
    "    if is_prime(i):\n",
    "        cp=cp+1\n",
    "        print(i)\n",
    "print(\"No of prime numbers=\",cp)        \n",
    "        "
   ]
  },
  {
   "cell_type": "markdown",
   "id": "70a53793-0210-4dd0-9d8a-e25f619401d5",
   "metadata": {},
   "source": [
    "Q4"
   ]
  },
  {
   "cell_type": "markdown",
   "id": "d9532b23-1232-465d-9d29-eb67dd72d908",
   "metadata": {},
   "source": [
    "Consider the following two sets, A and B, representing scores of two teams in multiple\n",
    "matches. A = {34, 56, 78, 90} and B = {78, 45, 90, 23}\n",
    "WAP to perform the following operations using set functions:\n",
    "i. Find the unique scores achieved by both teams (union of sets).\n",
    "ii. Identify the scores that are common to both teams (intersection of sets).\n",
    "iii. Find the scores that are exclusive to each team (symmetric difference).\n",
    "iv. Check if the scores of team A are a subset of team B, and if team B's scores are\n",
    "a superset of team A.\n",
    "v. Remove a specific score X (input by the user) from set A if it exists. If not, print\n",
    "a message saying it is not present."
   ]
  },
  {
   "cell_type": "code",
   "execution_count": 43,
   "id": "834380a2-209c-4049-ab61-00ba734d55d4",
   "metadata": {},
   "outputs": [
    {
     "name": "stdout",
     "output_type": "stream",
     "text": [
      "{34, 45, 78, 23, 56, 90}\n",
      "{90, 78}\n",
      "{56, 34}\n",
      "False\n",
      "False\n"
     ]
    },
    {
     "name": "stdin",
     "output_type": "stream",
     "text": [
      "Enter score to be removed 45\n"
     ]
    },
    {
     "name": "stdout",
     "output_type": "stream",
     "text": [
      "Element not found\n"
     ]
    }
   ],
   "source": [
    "A = {34, 56, 78, 90} \n",
    "B = {78, 45, 90, 23}\n",
    "print(A.union(B))\n",
    "print(A.intersection(B))\n",
    "print(A.difference(B))\n",
    "print(A.issubset(B))\n",
    "print(B.issuperset(A))\n",
    "X=int(input('Enter score to be removed'))\n",
    "if X in A:\n",
    "    print(A.remove(X))\n",
    "else:\n",
    "    print(\"Element not found\")"
   ]
  },
  {
   "cell_type": "markdown",
   "id": "f00aa61b-ef5e-4766-9055-b3f2257a0e5d",
   "metadata": {},
   "source": [
    "Q5"
   ]
  },
  {
   "cell_type": "markdown",
   "id": "a3a55ee7-2b08-40da-b93e-efa79a347113",
   "metadata": {},
   "source": [
    "Write a program to rename a key city to a location in the following dictionary."
   ]
  },
  {
   "cell_type": "code",
   "execution_count": 36,
   "id": "fc329909-01fa-4554-95c9-6009865befdc",
   "metadata": {},
   "outputs": [
    {
     "name": "stdout",
     "output_type": "stream",
     "text": [
      "{'name': 'Kelly', 'age': 25, 'salary': 8000, 'city': 'New York'}\n",
      "{'name': 'Kelly', 'age': 25, 'salary': 8000, 'location': 'New York'}\n"
     ]
    }
   ],
   "source": [
    "sample_dict={\n",
    "    \"name\":\"Kelly\",\n",
    "    \"age\":25,\n",
    "    \"salary\":8000,\n",
    "    \"city\":\"New York\"\n",
    "}\n",
    "print(sample_dict)\n",
    "del sample_dict[\"city\"]\n",
    "sample_dict[\"location\"]=\"New York\"\n",
    "print(sample_dict)"
   ]
  },
  {
   "cell_type": "code",
   "execution_count": null,
   "id": "4c1aeaf1-6f49-441c-82bf-ac93fed8caf0",
   "metadata": {},
   "outputs": [],
   "source": []
  }
 ],
 "metadata": {
  "kernelspec": {
   "display_name": "Python 3 (ipykernel)",
   "language": "python",
   "name": "python3"
  },
  "language_info": {
   "codemirror_mode": {
    "name": "ipython",
    "version": 3
   },
   "file_extension": ".py",
   "mimetype": "text/x-python",
   "name": "python",
   "nbconvert_exporter": "python",
   "pygments_lexer": "ipython3",
   "version": "3.11.7"
  }
 },
 "nbformat": 4,
 "nbformat_minor": 5
}
