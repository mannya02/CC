{
 "cells": [
  {
   "cell_type": "code",
   "execution_count": 2,
   "id": "7206fbbd-9c98-4ed5-8ff4-03da15c2b87d",
   "metadata": {},
   "outputs": [
    {
     "name": "stdout",
     "output_type": "stream",
     "text": [
      "Mannya\n",
      "Mannya\n",
      "Mannya\n"
     ]
    }
   ],
   "source": [
    "#Assingment 1.1: WAP to print your name three times\n",
    "print('Mannya')\n",
    "print('Mannya')\n",
    "print('Mannya')"
   ]
  },
  {
   "cell_type": "code",
   "execution_count": 3,
   "id": "c49869db-d385-46da-ac30-e5d637184b2b",
   "metadata": {},
   "outputs": [
    {
     "name": "stdin",
     "output_type": "stream",
     "text": [
      "Enter value of a= 50\n",
      "Enter value of b= 41\n",
      "Enter value of c= 91\n"
     ]
    },
    {
     "name": "stdout",
     "output_type": "stream",
     "text": [
      "Sum= 182\n"
     ]
    }
   ],
   "source": [
    "#Assingment 2.1: WAP to add three numbers and print the result.\n",
    "a=int(input('Enter value of a='))\n",
    "b=int(input('Enter value of b='))\n",
    "c=int(input('Enter value of c='))\n",
    "print(\"Sum=\",a+b+c)"
   ]
  },
  {
   "cell_type": "code",
   "execution_count": 4,
   "id": "31743b36-2d5f-48af-a6be-4faebf342b89",
   "metadata": {},
   "outputs": [
    {
     "name": "stdin",
     "output_type": "stream",
     "text": [
      "enter first string= hi\n",
      "enter second string= hello\n",
      "enter third string= welcome\n"
     ]
    },
    {
     "name": "stdout",
     "output_type": "stream",
     "text": [
      "Concatenated string= hihellowelcome\n"
     ]
    }
   ],
   "source": [
    "#Assingment 2.2: WAP to concatinate three strings and print the result.\n",
    "a=input('enter first string=')\n",
    "b=input('enter second string=')\n",
    "c=input('enter third string=')\n",
    "print(\"Concatenated string=\",a+b+c)"
   ]
  },
  {
   "cell_type": "code",
   "execution_count": 7,
   "id": "3991e92b-75f5-4728-9f82-a0699ee0fc77",
   "metadata": {},
   "outputs": [
    {
     "name": "stdout",
     "output_type": "stream",
     "text": [
      "7 *  1 = 7\n",
      "7 *  2 = 14\n",
      "7 *  3 = 21\n",
      "7 *  4 = 28\n",
      "7 *  5 = 35\n",
      "7 *  6 = 42\n",
      "7 *  7 = 49\n",
      "7 *  8 = 56\n",
      "7 *  9 = 63\n",
      "7 *  10 = 70\n",
      "-------------------------\n",
      "9 *  1 = 9\n",
      "9 *  2 = 18\n",
      "9 *  3 = 27\n",
      "9 *  4 = 36\n",
      "9 *  5 = 45\n",
      "9 *  6 = 54\n",
      "9 *  7 = 63\n",
      "9 *  8 = 72\n",
      "9 *  9 = 81\n",
      "9 *  10 = 90\n"
     ]
    }
   ],
   "source": [
    "#Assingment 4.1: WAP to print the table of 7, 9.\n",
    "for i in range(1,11):\n",
    "    print(\"7 * \",i,\"=\",(7*i))\n",
    "print(\"-------------------------\")    \n",
    "for i in range(1,11):\n",
    "    print(\"9 * \",i,\"=\",(9*i))    "
   ]
  },
  {
   "cell_type": "code",
   "execution_count": 9,
   "id": "718a1744-6782-4fc2-a46d-7bce2f005294",
   "metadata": {},
   "outputs": [
    {
     "name": "stdin",
     "output_type": "stream",
     "text": [
      "Enter value of n= 254\n"
     ]
    },
    {
     "name": "stdout",
     "output_type": "stream",
     "text": [
      "254  *  1 = 254\n",
      "254  *  2 = 508\n",
      "254  *  3 = 762\n",
      "254  *  4 = 1016\n",
      "254  *  5 = 1270\n",
      "254  *  6 = 1524\n",
      "254  *  7 = 1778\n",
      "254  *  8 = 2032\n",
      "254  *  9 = 2286\n",
      "254  *  10 = 2540\n"
     ]
    }
   ],
   "source": [
    "#Assingment 4.2: WAP to print the table of n and n is given by user.\n",
    "n=int(input('Enter value of n='))\n",
    "for i in range(1,11):\n",
    "    print(n,\" * \",i,\"=\",(n*i))    "
   ]
  },
  {
   "cell_type": "code",
   "execution_count": 10,
   "id": "a713f1e1-a91b-4951-879d-53473c960c5f",
   "metadata": {},
   "outputs": [
    {
     "name": "stdin",
     "output_type": "stream",
     "text": [
      "Enter value of n= 54\n"
     ]
    },
    {
     "name": "stdout",
     "output_type": "stream",
     "text": [
      "Sum= 1485\n"
     ]
    }
   ],
   "source": [
    "#Assingment 4.3: WAP to add all the numbers from 1 to n and n is given by user.\n",
    "n=int(input('Enter value of n='))\n",
    "sum=0\n",
    "for i in range(1,n+1):\n",
    "    sum=sum+i\n",
    "print(\"Sum=\",sum)    "
   ]
  },
  {
   "cell_type": "code",
   "execution_count": 11,
   "id": "87c8a961-7567-4a46-a825-bb28df3fe1ce",
   "metadata": {},
   "outputs": [
    {
     "name": "stdin",
     "output_type": "stream",
     "text": [
      "Enter value of a= 56\n",
      "Enter value of b= 74\n",
      "Enter value of c= 0\n"
     ]
    },
    {
     "name": "stdout",
     "output_type": "stream",
     "text": [
      "maximum of three= 74\n"
     ]
    }
   ],
   "source": [
    "#Assingment 5.1: WAP to find max amoung three numbers and input from user. [Try max() function]\n",
    "a=int(input('Enter value of a='))\n",
    "b=int(input('Enter value of b='))\n",
    "c=int(input('Enter value of c='))\n",
    "maximum=max(a,b,c)\n",
    "print(\"maximum of three=\",maximum)"
   ]
  },
  {
   "cell_type": "code",
   "execution_count": 14,
   "id": "d561c071-9ffc-4e0b-a4c3-f8ea8d002424",
   "metadata": {},
   "outputs": [
    {
     "name": "stdin",
     "output_type": "stream",
     "text": [
      "Enter value of n= 51\n"
     ]
    },
    {
     "name": "stdout",
     "output_type": "stream",
     "text": [
      "Sum of numbers divisible by 7 and 9= 196\n"
     ]
    }
   ],
   "source": [
    "#Assingment 5.2: WAP to add all numbers divisible by 7 and 9 from 1 to n and n is given by the user.\n",
    "n=int(input('Enter value of n='))\n",
    "sum=0\n",
    "for i in range(1,n+1):\n",
    "    if i%7==0&i%9==0:\n",
    "        sum=sum+i\n",
    "print(\"Sum of numbers divisible by 7 and 9=\",sum)\n"
   ]
  },
  {
   "cell_type": "code",
   "execution_count": 4,
   "id": "80a98ac5-926a-4ac4-a30a-76add28ff8a4",
   "metadata": {},
   "outputs": [
    {
     "name": "stdin",
     "output_type": "stream",
     "text": [
      "Enter value of n= 10\n"
     ]
    },
    {
     "name": "stdout",
     "output_type": "stream",
     "text": [
      "The sum of prime numbers til n= 17\n"
     ]
    }
   ],
   "source": [
    "#Assingment 5.3: WAP to add all prime numbers from 1 to n and n is given by the user.\n",
    "n=int(input('Enter value of n='))\n",
    "sum=0\n",
    "for num in range(2,n+1):\n",
    "    for i in range(2,num):\n",
    "      if num%i==0:\n",
    "         break\n",
    "    else:\n",
    "        sum=sum+num\n",
    "print(\"The sum of prime numbers til n=\",sum)    \n",
    "    "
   ]
  },
  {
   "cell_type": "code",
   "execution_count": null,
   "id": "f99752fd-c5e0-44c3-909c-0b6a677860f4",
   "metadata": {},
   "outputs": [],
   "source": []
  },
  {
   "cell_type": "code",
   "execution_count": null,
   "id": "e47c0c38-a656-48ea-b101-a42e3cc1aba3",
   "metadata": {},
   "outputs": [],
   "source": []
  },
  {
   "cell_type": "code",
   "execution_count": null,
   "id": "f07064cf-f75a-45ba-8320-ce6d2412cc23",
   "metadata": {},
   "outputs": [],
   "source": []
  },
  {
   "cell_type": "code",
   "execution_count": null,
   "id": "46423bff-bea0-4695-8365-3389547dfb8d",
   "metadata": {},
   "outputs": [],
   "source": []
  },
  {
   "cell_type": "code",
   "execution_count": null,
   "id": "accdfc21-4619-4604-8190-11eeaf766f96",
   "metadata": {},
   "outputs": [],
   "source": []
  },
  {
   "cell_type": "code",
   "execution_count": null,
   "id": "c18f324c-069e-406b-afaa-dd796917215d",
   "metadata": {},
   "outputs": [],
   "source": []
  },
  {
   "cell_type": "code",
   "execution_count": null,
   "id": "394bd1dd-5136-4ab3-b351-466ae4d51500",
   "metadata": {},
   "outputs": [],
   "source": []
  },
  {
   "cell_type": "code",
   "execution_count": null,
   "id": "cc2c9dfa-9752-44f1-a4cb-84a7110b90f0",
   "metadata": {},
   "outputs": [],
   "source": []
  },
  {
   "cell_type": "code",
   "execution_count": null,
   "id": "05874a13-c374-4592-8c48-9f8efc2c5a36",
   "metadata": {},
   "outputs": [],
   "source": []
  }
 ],
 "metadata": {
  "kernelspec": {
   "display_name": "Python 3 (ipykernel)",
   "language": "python",
   "name": "python3"
  },
  "language_info": {
   "codemirror_mode": {
    "name": "ipython",
    "version": 3
   },
   "file_extension": ".py",
   "mimetype": "text/x-python",
   "name": "python",
   "nbconvert_exporter": "python",
   "pygments_lexer": "ipython3",
   "version": "3.11.7"
  }
 },
 "nbformat": 4,
 "nbformat_minor": 5
}
